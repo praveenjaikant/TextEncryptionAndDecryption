{
 "cells": [
  {
   "cell_type": "markdown",
   "metadata": {},
   "source": [
    "This is a function encrypt that takes in a word and a shift (default value = 0), and returns a string containing the encrypted version of the word using a Caesar shift. Function can accept both upper and lower case letters, and returns any non-alphabetic characters as is. The use of this function has been demonstrated on the following list of (case-sensitive) words/phrases with a Caesar shift of +5: apple, Maryland, Route 66, LaTeX, twenty-first century"
   ]
  },
  {
   "cell_type": "code",
   "execution_count": 1,
   "metadata": {},
   "outputs": [
    {
     "name": "stdout",
     "output_type": "stream",
     "text": [
      "Encrypted string is  fuuqj\n",
      "Encrypted string is  Rfwdqfsi\n",
      "Encrypted string is  Wtzyj 66\n",
      "Encrypted string is  QfYjC\n",
      "Encrypted string is  ybjsyd-knwxy hjsyzwd\n"
     ]
    }
   ],
   "source": [
    "def encrypt (string, shift = 0):\n",
    "    shifted_string = ''\n",
    "    for char in string:\n",
    "        char_ascii = ord(char) # using the ord() function to get the ascii value\n",
    "        char_ascii_shifted = char_ascii + shift # shifting the value to the right\n",
    "        if (char_ascii >= 65 and char_ascii <= 90): # checking if imput character is upper case\n",
    "            if (char_ascii_shifted > 90): # if, after shifting, the ascii value has exceeded that of 'Z'\n",
    "                char_ascii_shifted_back = 65 + ((char_ascii_shifted - 1) % 90) # then restart from 'A' + shift\n",
    "                char_right_shifted = chr(char_ascii_shifted_back) # convert back from ascii value to character\n",
    "                shifted_string = shifted_string + char_right_shifted # appending character to string\n",
    "            \n",
    "            elif ((char_ascii_shifted >= 65 and char_ascii_shifted <= 90)): # if ascii value is within limits of uppercase\n",
    "                char_right_shifted = chr(char_ascii_shifted) #convert ascii value to character value\n",
    "                shifted_string = shifted_string + char_right_shifted # appending shifted character to final string\n",
    "                \n",
    "            elif (char_ascii_shifted < 65): # if, after shifting, the value has gone below 'A'\n",
    "                char_ascii_shifted_back = 90 - ((65 - char_ascii_shifted) - 1) # then shift to 'Z' and backwards\n",
    "                char_right_shifted = chr(char_ascii_shifted_back) # convert back from ascii value to character\n",
    "                shifted_string = shifted_string + char_right_shifted # appending shifted character to final string\n",
    "        \n",
    "        elif (char_ascii >= 97 and char_ascii <= 122): # else if the character is in lowercase\n",
    "            char_ascii_shifted = char_ascii + shift # shifting the value to the right\n",
    "            if (char_ascii_shifted > 122): # if, after shifting, the ascii value has exceeded that of 'z'\n",
    "                char_ascii_shifted_back = 97 + ((char_ascii_shifted - 1) % 122) # then restart from 'a' + shift\n",
    "                char_right_shifted = chr(char_ascii_shifted_back) # convert back from ascii value to character\n",
    "                shifted_string = shifted_string + char_right_shifted # appending shifted character to final string\n",
    "                \n",
    "            elif ((char_ascii_shifted >= 97 and char_ascii_shifted <= 122)): # if ascii value is within limits of lowercase\n",
    "                char_right_shifted = chr(char_ascii_shifted) #convert ascii value to character value\n",
    "                shifted_string = shifted_string + char_right_shifted # appending shifted character to final string\n",
    "                \n",
    "            elif (char_ascii_shifted < 97): # if, after shifting, the value has gone below 'a'\n",
    "                char_ascii_shifted_back = 122 - ((97 - char_ascii_shifted) - 1) # then, go to 'z' and start going backwards\n",
    "                char_right_shifted = chr(char_ascii_shifted_back) # convert back from ascii value to character\n",
    "                shifted_string = shifted_string + char_right_shifted # appending shifted character to final string\n",
    "        \n",
    "        else:\n",
    "            char_right_shifted = char # if non-alphabet character, keep character as it is\n",
    "            shifted_string = shifted_string + char_right_shifted # appending shifted character to final string\n",
    "    \n",
    "    return shifted_string # return final string\n",
    "\n",
    "apple_string = encrypt('apple', 5)\n",
    "print ('Encrypted string is ', apple_string)\n",
    "\n",
    "Maryland_string = encrypt('Maryland', 5)\n",
    "print ('Encrypted string is ', Maryland_string)\n",
    "\n",
    "Route_string = encrypt('Route 66', 5)\n",
    "print('Encrypted string is ', Route_string)\n",
    "\n",
    "Latex_string = encrypt('LaTeX', 5)\n",
    "print('Encrypted string is ', Latex_string)\n",
    "\n",
    "twentyfirst_string = encrypt('twenty-first century', 5)\n",
    "print('Encrypted string is ', twentyfirst_string)"
   ]
  }
 ],
 "metadata": {
  "kernelspec": {
   "display_name": "Python 3",
   "language": "python",
   "name": "python3"
  },
  "language_info": {
   "codemirror_mode": {
    "name": "ipython",
    "version": 3
   },
   "file_extension": ".py",
   "mimetype": "text/x-python",
   "name": "python",
   "nbconvert_exporter": "python",
   "pygments_lexer": "ipython3",
   "version": "3.7.1"
  }
 },
 "nbformat": 4,
 "nbformat_minor": 2
}
