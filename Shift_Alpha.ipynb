{
 "cells": [
  {
   "cell_type": "markdown",
   "metadata": {},
   "source": [
    "Below is a function shift_alpha that takes in an alphabet string (A) and a shift constant (shift, default value of 0), prints the original and shifted alphabet (each as a single string), and returns a translation dictionary that contains each original letter as the key and the encrypted letter as the value. The performance of this function has been shown on the upper case alphabet with a shift of 0, +12, and -3."
   ]
  },
  {
   "cell_type": "code",
   "execution_count": 1,
   "metadata": {},
   "outputs": [
    {
     "name": "stdout",
     "output_type": "stream",
     "text": [
      "ABCDEFGHIJKLMNOPQRSTUVWXYZ\n",
      "ABCDEFGHIJKLMNOPQRSTUVWXYZ\n",
      "{'A': 'A', 'B': 'B', 'C': 'C', 'D': 'D', 'E': 'E', 'F': 'F', 'G': 'G', 'H': 'H', 'I': 'I', 'J': 'J', 'K': 'K', 'L': 'L', 'M': 'M', 'N': 'N', 'O': 'O', 'P': 'P', 'Q': 'Q', 'R': 'R', 'S': 'S', 'T': 'T', 'U': 'U', 'V': 'V', 'W': 'W', 'X': 'X', 'Y': 'Y', 'Z': 'Z'}\n",
      "ABCDEFGHIJKLMNOPQRSTUVWXYZ\n",
      "MNOPQRSTUVWXYZABCDEFGHIJKL\n",
      "{'A': 'M', 'B': 'N', 'C': 'O', 'D': 'P', 'E': 'Q', 'F': 'R', 'G': 'S', 'H': 'T', 'I': 'U', 'J': 'V', 'K': 'W', 'L': 'X', 'M': 'Y', 'N': 'Z', 'O': 'A', 'P': 'B', 'Q': 'C', 'R': 'D', 'S': 'E', 'T': 'F', 'U': 'G', 'V': 'H', 'W': 'I', 'X': 'J', 'Y': 'K', 'Z': 'L'}\n",
      "ABCDEFGHIJKLMNOPQRSTUVWXYZ\n",
      "XYZABCDEFGHIJKLMNOPQRSTUVW\n",
      "{'A': 'X', 'B': 'Y', 'C': 'Z', 'D': 'A', 'E': 'B', 'F': 'C', 'G': 'D', 'H': 'E', 'I': 'F', 'J': 'G', 'K': 'H', 'L': 'I', 'M': 'J', 'N': 'K', 'O': 'L', 'P': 'M', 'Q': 'N', 'R': 'O', 'S': 'P', 'T': 'Q', 'U': 'R', 'V': 'S', 'W': 'T', 'X': 'U', 'Y': 'V', 'Z': 'W'}\n"
     ]
    }
   ],
   "source": [
    "def shift_alpha (string, shift = 0): \n",
    "    alpha_dict = {} # creating empty dictionary\n",
    "    shifted_string = ''\n",
    "    for char in string:\n",
    "        char_ascii = ord(char) # using the ord() function to get the ascii value\n",
    "        char_ascii_shifted = char_ascii + shift # shifting the value to the right\n",
    "        if (char_ascii >= 65 and char_ascii <= 90): # checking if imput character is upper case\n",
    "            if (char_ascii_shifted > 90): # if, after shifting, the ascii value has exceeded that of 'Z'\n",
    "                char_ascii_shifted_back = 65 + ((char_ascii_shifted - 1) % 90) # then restart from 'A' + shift\n",
    "                char_right_shifted = chr(char_ascii_shifted_back) # convert back from ascii value to character\n",
    "                shifted_string = shifted_string + char_right_shifted\n",
    "                alpha_dict[char] = char_right_shifted #import values into dictionary\n",
    "            \n",
    "            elif ((char_ascii_shifted >= 65 and char_ascii_shifted <= 90)): # if ascii value is within limits of uppercase\n",
    "                char_right_shifted = chr(char_ascii_shifted) #convert ascii value to character value\n",
    "                shifted_string = shifted_string + char_right_shifted\n",
    "                alpha_dict[char] = char_right_shifted # import values into dictionary\n",
    "            \n",
    "            elif (char_ascii_shifted < 65): # if, after shifting, the value has gone below 'A'\n",
    "                char_ascii_shifted_back = 90 - ((65 - char_ascii_shifted) - 1) # then shift to 'Z' and backwards\n",
    "                char_right_shifted = chr(char_ascii_shifted_back) # convert back from ascii value to character\n",
    "                shifted_string = shifted_string + char_right_shifted\n",
    "                alpha_dict[char] = char_right_shifted #import values into dictionary\n",
    "    \n",
    "        elif (char_ascii >= 97 and char_ascii <= 122): # else if the character is in lowercase\n",
    "            char_ascii_shifted = char_ascii + shift # shifting the value to the right\n",
    "            if (char_ascii_shifted > 122): # if, after shifting, the ascii value has exceeded that of 'z'\n",
    "                char_ascii_shifted_back = 97 + ((char_ascii_shifted - 1) % 122) # then restart from 'a' + shift\n",
    "                char_right_shifted = chr(char_ascii_shifted_back) # convert back from ascii value to character\n",
    "                shifted_string = shifted_string + char_right_shifted\n",
    "                alpha_dict[char] = char_right_shifted #import values into dictionary\n",
    "            \n",
    "            elif ((char_ascii_shifted >= 97 and char_ascii_shifted <= 122)): # if ascii value is within limits of lowercase\n",
    "                char_right_shifted = chr(char_ascii_shifted) #convert ascii value to character value\n",
    "                shifted_string = shifted_string + char_right_shifted\n",
    "                alpha_dict[char] = char_right_shifted #import values into dictionary\n",
    "        \n",
    "            elif (char_ascii_shifted < 97): # if, after shifting, the value has gone below 'a'\n",
    "                char_ascii_shifted_back = 122 - ((97 - char_ascii_shifted) - 1) # then, go to 'z' and start going backwards\n",
    "                char_right_shifted = chr(char_ascii_shifted_back) # convert back from ascii value to character\n",
    "                shifted_string = shifted_string + char_right_shifted \n",
    "                alpha_dict[char] = char_right_shifted #import values into dictionary\n",
    "                \n",
    "        else:\n",
    "            alpha_dict[char] = char # if non-alphabet character, keep character as it is\n",
    "    print(string)\n",
    "    print(shifted_string)\n",
    "    return alpha_dict # return the dictionary\n",
    "\n",
    "import string # importing string package\n",
    "alphabets = string.ascii_uppercase # getting a string of uppercase letters\n",
    "\n",
    "trial1 = shift_alpha(alphabets,0)\n",
    "print(trial1)\n",
    "\n",
    "trial2 = shift_alpha(alphabets,12)\n",
    "print(trial2)\n",
    "\n",
    "trial3 = shift_alpha(alphabets,-3)\n",
    "print(trial3)"
   ]
  }
 ],
 "metadata": {
  "kernelspec": {
   "display_name": "Python 3",
   "language": "python",
   "name": "python3"
  },
  "language_info": {
   "codemirror_mode": {
    "name": "ipython",
    "version": 3
   },
   "file_extension": ".py",
   "mimetype": "text/x-python",
   "name": "python",
   "nbconvert_exporter": "python",
   "pygments_lexer": "ipython3",
   "version": "3.7.1"
  }
 },
 "nbformat": 4,
 "nbformat_minor": 2
}
